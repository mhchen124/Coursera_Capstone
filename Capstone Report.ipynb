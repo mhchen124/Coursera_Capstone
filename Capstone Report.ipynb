{
 "cells": [
  {
   "cell_type": "markdown",
   "metadata": {},
   "source": [
    "# CAPSTONE PROJECT REPORT"
   ]
  },
  {
   "cell_type": "markdown",
   "metadata": {},
   "source": [
    "## 1. Business Problem\n",
    "\n",
    "The city where I live - Irvine, California, is a very nice city for family-oriented people like myself. It has been on the \"U.S. Top 10 Safest Cities With Population Larger than 100,000\" list for many years. It has modern infrastructures, good facilities, and rich multi-cultural venues to make living in Irvine a splendid experience. However, there is one shortcoming: the leading-edge computer and Internet job opportunities are limited compared to some other tech-hub cities in Bay Area or even in Los Angeles vicinities. This lack of challenging high-tech jobs made many Irvine high-tech talents to relocate to other California cities where job opportunities are rosier (I myself am looking for such move too).\n",
    "\n",
    "When a job candidate searching for a specific opening, he/she will also consider whether the job city fits ones family's lifestyle so that they could like the environment in longterm. Although many factors may effect one's life quality, I believe (hope many others who are looking to relocation also agree with me) that the venues in where one lives does play an important role. If the venue composition around your neighborhood looks like that in Irvine, it makes you feel at home.\n",
    "\n",
    "Therefore, the purpose of this project is to create a scoring function / classifier that can determine how similar a target city is to Irvine - from the point of view of the venues composition. Doing so allows us to generate a list of target cities sorted with their similarity to the city of Irvine, which provide a good reference about life quality in the target cities that relocating job-seekers can consult."
   ]
  },
  {
   "cell_type": "markdown",
   "metadata": {},
   "source": [
    "## 2. Data Used"
   ]
  },
  {
   "cell_type": "markdown",
   "metadata": {},
   "source": [
    "The project will use \"Cities in California\" wikipedia page to scrape all the city names and its population, then filter out only cities that with a population greater than 100,000.\n",
    "FourSquare API will be used to retrieve venues data for Irvine and all other candidate cities. In the sequel, similarity measurement will be calculated out to determine how similar a target city is to the city of Irvine."
   ]
  },
  {
   "cell_type": "code",
   "execution_count": null,
   "metadata": {},
   "outputs": [],
   "source": []
  }
 ],
 "metadata": {
  "kernelspec": {
   "display_name": "Python 3",
   "language": "python",
   "name": "python3"
  },
  "language_info": {
   "codemirror_mode": {
    "name": "ipython",
    "version": 3
   },
   "file_extension": ".py",
   "mimetype": "text/x-python",
   "name": "python",
   "nbconvert_exporter": "python",
   "pygments_lexer": "ipython3",
   "version": "3.6.6"
  }
 },
 "nbformat": 4,
 "nbformat_minor": 2
}
